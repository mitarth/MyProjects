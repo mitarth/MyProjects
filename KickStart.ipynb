{
  "nbformat": 4,
  "nbformat_minor": 0,
  "metadata": {
    "colab": {
      "name": "Welcome To Colaboratory",
      "provenance": [],
      "collapsed_sections": [],
      "toc_visible": true,
      "include_colab_link": true
    },
    "kernelspec": {
      "display_name": "Python 3",
      "name": "python3"
    }
  },
  "cells": [
    {
      "cell_type": "markdown",
      "metadata": {
        "id": "view-in-github",
        "colab_type": "text"
      },
      "source": [
        "<a href=\"https://colab.research.google.com/github/mitarth/MyProjects/blob/master/KickStart.ipynb\" target=\"_parent\"><img src=\"https://colab.research.google.com/assets/colab-badge.svg\" alt=\"Open In Colab\"/></a>"
      ]
    },
    {
      "cell_type": "markdown",
      "metadata": {
        "id": "5fCEDCU_qrC0"
      },
      "source": [
        "<p><img alt=\"Colaboratory logo\" height=\"45px\" src=\"/img/colab_favicon.ico\" align=\"left\" hspace=\"10px\" vspace=\"0px\"></p>\n",
        "\n",
        "<h1>What is Colaboratory?</h1>\n",
        "\n",
        "Colaboratory, or \"Colab\" for short, allows you to write and execute Python in your browser, with \n",
        "- Zero configuration required\n",
        "- Free access to GPUs\n",
        "- Easy sharing\n",
        "\n",
        "Whether you're a **student**, a **data scientist** or an **AI researcher**, Colab can make your work easier. Watch [Introduction to Colab](https://www.youtube.com/watch?v=inN8seMm7UI) to learn more, or just get started below!"
      ]
    },
    {
      "cell_type": "markdown",
      "metadata": {
        "id": "SFcULdQ4BoUH"
      },
      "source": [
        "Retype"
      ]
    },
    {
      "cell_type": "code",
      "metadata": {
        "id": "HOmbNJuKPrXj",
        "outputId": "13872045-6baa-4560-b93b-7512a96aca25",
        "colab": {
          "base_uri": "https://localhost:8080/"
        }
      },
      "source": [
        "def main():\n",
        "    T = int(input())\n",
        "    for i in range(T):\n",
        "        val = input().split()\n",
        "        N = int(val[0])\n",
        "        K = int(val[1])\n",
        "        S = int(val[2])\n",
        "        # print(N,K,S)\n",
        "        x = K-1\n",
        "        restart = x+1+N\n",
        "        go_back = x+(K-S)+(N-S+1)\n",
        "        # print(restart,go_back)\n",
        "        print(\"Case #\"+str(i+1)+\": \"+str(min(restart,go_back)))\n",
        "    \n",
        "if __name__ == '__main__':\n",
        "    main()"
      ],
      "execution_count": 4,
      "outputs": [
        {
          "output_type": "stream",
          "text": [
            "1 \n",
            "10 5 2\n",
            "10 5 2\n",
            "15 16\n",
            "Case # 1 :  15\n"
          ],
          "name": "stdout"
        }
      ]
    },
    {
      "cell_type": "markdown",
      "metadata": {
        "id": "8ll9Ug_PBenH"
      },
      "source": [
        "Boring Numbers"
      ]
    },
    {
      "cell_type": "code",
      "metadata": {
        "id": "K20Ap6fqBuLE"
      },
      "source": [
        ""
      ],
      "execution_count": null,
      "outputs": []
    },
    {
      "cell_type": "code",
      "metadata": {
        "id": "5rVyzGVQz76l",
        "outputId": "902fa8c6-6046-4412-ede7-1bb53caded90",
        "colab": {
          "base_uri": "https://localhost:8080/"
        }
      },
      "source": [
        "five = [5**i for i in range(20)]\n",
        "# print(five)\n",
        "a = [0,0,1,1,2,2,3,3,4,4]\n",
        "b = [0,1,1,2,2,3,3,4,4,5]\n",
        "pre = [0]\n",
        "for i in range(1,20):\n",
        "  pre.append(pre[i-1]+five[i])\n",
        "# print(pre)\n",
        "\n",
        "def bnums(x):\n",
        "  x_str = str(x)\n",
        "  n = len(str(x))\n",
        "  ans = pre[n-1]\n",
        "  for i in range(1,n+1):\n",
        "    c = int(x_str[i-1])\n",
        "    # print(c,i)\n",
        "    if (c%2 == i%2):\n",
        "      ans+= five[n-i] * a[c]\n",
        "      if i==n:\n",
        "        ans+= 1\n",
        "        # print('m')\n",
        "    else:\n",
        "      ans+= five[n-i] * b[c]\n",
        "      break\n",
        "    # rint(ans)\n",
        "  return ans\n",
        "\n",
        "def main():\n",
        "    T = int(input())\n",
        "    for t in range(T):\n",
        "        val = input().split()\n",
        "        L = int(val[0])\n",
        "        R = int(val[1])\n",
        "        print(\"Case #\"+str(t+1)+\": \"+str(bnums(R)-bnums(L-1)))\n",
        "\n",
        "    \n",
        "if __name__ == '__main__':\n",
        "    main()"
      ],
      "execution_count": 33,
      "outputs": [
        {
          "output_type": "stream",
          "text": [
            "[1, 5, 25, 125, 625, 3125, 15625, 78125, 390625, 1953125, 9765625, 48828125, 244140625, 1220703125, 6103515625, 30517578125, 152587890625, 762939453125, 3814697265625, 19073486328125]\n",
            "[0, 5, 30, 155, 780, 3905, 19530, 97655, 488280, 2441405, 12207030, 61035155, 305175780, 1525878905, 7629394530, 38146972655, 190734863280, 953674316405, 4768371582030, 23841857910155]\n",
            "Case #: 6\n",
            "Case #: 3\n",
            "Case #: 2\n"
          ],
          "name": "stdout"
        }
      ]
    }
  ]
}